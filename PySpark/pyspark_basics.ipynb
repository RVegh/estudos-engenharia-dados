{
  "nbformat": 4,
  "nbformat_minor": 0,
  "metadata": {
    "colab": {
      "provenance": []
    },
    "kernelspec": {
      "name": "python3",
      "display_name": "Python 3"
    },
    "language_info": {
      "name": "python"
    }
  },
  "cells": [
    {
      "cell_type": "code",
      "execution_count": null,
      "metadata": {
        "id": "FmdhsPx_iZ9A"
      },
      "outputs": [],
      "source": [
        "# install the dependencies\n",
        "!apt-get install openjdk-11-jdk-headless -qq > /dev/null\n",
        "!wget -q https://dlcdn.apache.org/spark/spark-3.1.3/spark-3.1.3-bin-hadoop3.2.tgz\n",
        "!tar xf spark-3.1.3-bin-hadoop3.2.tgz\n",
        "!pip -q install findspark"
      ]
    },
    {
      "cell_type": "code",
      "source": [
        "#Setting up variables and finding Spark with findspark module\n",
        "import os\n",
        "import findspark\n",
        "\n",
        "os.environ[\"JAVA_HOME\"] = \"/usr/lib/jvm/java-11-openjdk-amd64\"\n",
        "os.environ[\"SPARK_HOME\"] = \"/content/spark-3.1.3-bin-hadoop3.2\"\n",
        "os.environ['PYSPARK_SUBMIT_ARGS'] = '--packages io.delta:delta-core_2.12:0.7.0 --conf spark.sql.extensions=io.delta.sql.DeltaSparkSessionExtension --conf spark.sql.catalog.spark_catalog=org.apache.spark.sql.delta.catalog.DeltaCatalog pyspark-shell'\n",
        "findspark.init()"
      ],
      "metadata": {
        "id": "dqkaOHv5iuBz"
      },
      "execution_count": null,
      "outputs": []
    },
    {
      "cell_type": "code",
      "source": [
        "#Creating SparkSession\n",
        "from pyspark.sql import SparkSession\n",
        "from pyspark import SparkConf\n",
        "from pyspark.sql.functions import *\n",
        "\n",
        "spark = SparkSession.builder.appName('Spark Training').getOrCreate()"
      ],
      "metadata": {
        "id": "-qHJDwnknNh2"
      },
      "execution_count": null,
      "outputs": []
    },
    {
      "cell_type": "code",
      "source": [
        "path = '/content/bakery_sales.csv'\n",
        "\n",
        "'''\n",
        "Dataframe could also be created using read.format(), read.csv,json, etc, createDataFrame or using schema.\n",
        "\n",
        "Ex:\n",
        "df_bakery = (spark.read.option(\"inferSchema\",True) \\\n",
        "                      .option(\"header\", True) \\\n",
        "                      .csv(path)\n",
        ")\n",
        "\n",
        "or\n",
        "\n",
        "df_bakery = spark.read.table(\"<catalog_name>.<schema_name>.<table_name>\")\n",
        "\n",
        "etc.\n",
        "\n",
        "'''\n",
        "df_bakery = (\n",
        "              spark.read.format(\"csv\") \\\n",
        "                  .option(\"inferSchema\", True) \\\n",
        "                  .option(\"delimiter\", \",\") \\\n",
        "                  .option(\"header\", True) \\\n",
        "                  .load(path)\n",
        ")\n"
      ],
      "metadata": {
        "id": "UFxvWn6xruOU"
      },
      "execution_count": null,
      "outputs": []
    },
    {
      "cell_type": "code",
      "source": [
        "#Show schema\n",
        "df_bakery.printSchema()"
      ],
      "metadata": {
        "id": "Alz1m6G_KWZz",
        "colab": {
          "base_uri": "https://localhost:8080/"
        },
        "outputId": "7cf890d8-a9de-411c-aeef-fc06aaaa3ae2"
      },
      "execution_count": null,
      "outputs": [
        {
          "output_type": "stream",
          "name": "stdout",
          "text": [
            "root\n",
            " |-- _c0: integer (nullable = true)\n",
            " |-- date: string (nullable = true)\n",
            " |-- time: string (nullable = true)\n",
            " |-- ticket_number: double (nullable = true)\n",
            " |-- article: string (nullable = true)\n",
            " |-- Quantity: double (nullable = true)\n",
            " |-- unit_price: string (nullable = true)\n",
            "\n"
          ]
        }
      ]
    },
    {
      "cell_type": "code",
      "source": [
        "#Show dataframe\n",
        "#display(df_bakery)\n",
        "df_bakery.show()"
      ],
      "metadata": {
        "id": "FTzUtrK-s-hX",
        "colab": {
          "base_uri": "https://localhost:8080/"
        },
        "outputId": "8f8df70e-e2b7-4dc2-a948-13a2b7718192"
      },
      "execution_count": null,
      "outputs": [
        {
          "output_type": "stream",
          "name": "stdout",
          "text": [
            "+---+----------+-----+-------------+--------------------+--------+----------+\n",
            "|_c0|      date| time|ticket_number|             article|Quantity|unit_price|\n",
            "+---+----------+-----+-------------+--------------------+--------+----------+\n",
            "|  0|2021-01-02|08:38|     150040.0|            BAGUETTE|     1.0|    0,90 €|\n",
            "|  1|2021-01-02|08:38|     150040.0|    PAIN AU CHOCOLAT|     3.0|    1,20 €|\n",
            "|  4|2021-01-02|09:14|     150041.0|    PAIN AU CHOCOLAT|     2.0|    1,20 €|\n",
            "|  5|2021-01-02|09:14|     150041.0|                PAIN|     1.0|    1,15 €|\n",
            "|  8|2021-01-02|09:25|     150042.0|TRADITIONAL BAGUETTE|     5.0|    1,20 €|\n",
            "| 11|2021-01-02|09:25|     150043.0|            BAGUETTE|     2.0|    0,90 €|\n",
            "| 12|2021-01-02|09:25|     150043.0|           CROISSANT|     3.0|    1,10 €|\n",
            "| 15|2021-01-02|09:27|     150044.0|             BANETTE|     1.0|    1,05 €|\n",
            "| 18|2021-01-02|09:32|     150045.0|TRADITIONAL BAGUETTE|     3.0|    1,20 €|\n",
            "| 19|2021-01-02|09:32|     150045.0|           CROISSANT|     6.0|    1,10 €|\n",
            "| 22|2021-01-02|09:37|     150046.0|    PAIN AU CHOCOLAT|     6.0|    1,20 €|\n",
            "| 23|2021-01-02|09:37|     150046.0|           CROISSANT|     6.0|    1,10 €|\n",
            "| 24|2021-01-02|09:37|     150046.0|TRADITIONAL BAGUETTE|     6.0|    1,20 €|\n",
            "| 29|2021-01-02|09:39|     150048.0|           CROISSANT|     3.0|    1,10 €|\n",
            "| 32|2021-01-02|09:40|     150049.0|           CROISSANT|     2.0|    1,10 €|\n",
            "| 33|2021-01-02|09:40|     150049.0|TRADITIONAL BAGUETTE|     1.0|    1,20 €|\n",
            "| 36|2021-01-02|09:41|     150050.0|TRADITIONAL BAGUETTE|     2.0|    1,20 €|\n",
            "| 39|2021-01-02|09:46|     150051.0|                PAIN|     1.0|    1,15 €|\n",
            "| 42|2021-01-02|09:48|     150052.0|           BANETTINE|     1.0|    0,60 €|\n",
            "| 43|2021-01-02|09:48|     150052.0|       SPECIAL BREAD|     1.0|    2,40 €|\n",
            "+---+----------+-----+-------------+--------------------+--------+----------+\n",
            "only showing top 20 rows\n",
            "\n"
          ]
        }
      ]
    },
    {
      "cell_type": "code",
      "source": [
        "#Describe dataframe basic statistics \n",
        "df_bakery.describe()"
      ],
      "metadata": {
        "id": "lENlTuoCKs0d",
        "colab": {
          "base_uri": "https://localhost:8080/"
        },
        "outputId": "b1d4734b-afb3-44da-fc12-96afdf917ff2"
      },
      "execution_count": null,
      "outputs": [
        {
          "output_type": "execute_result",
          "data": {
            "text/plain": [
              "DataFrame[summary: string, _c0: string, date: string, time: string, ticket_number: string, article: string, Quantity: string, unit_price: string]"
            ]
          },
          "metadata": {},
          "execution_count": 11
        }
      ]
    },
    {
      "cell_type": "code",
      "source": [
        "#Show the first x dataframe rows\n",
        "df_bakery.head(5)"
      ],
      "metadata": {
        "id": "tECn3_9Dv-p3",
        "colab": {
          "base_uri": "https://localhost:8080/"
        },
        "outputId": "3fd02bed-1597-4dc4-cb56-4e671e7dfcfb"
      },
      "execution_count": null,
      "outputs": [
        {
          "output_type": "execute_result",
          "data": {
            "text/plain": [
              "[Row(_c0=0, date='2021-01-02', time='08:38', ticket_number=150040.0, article='BAGUETTE', Quantity=1.0, unit_price='0,90 €'),\n",
              " Row(_c0=1, date='2021-01-02', time='08:38', ticket_number=150040.0, article='PAIN AU CHOCOLAT', Quantity=3.0, unit_price='1,20 €'),\n",
              " Row(_c0=4, date='2021-01-02', time='09:14', ticket_number=150041.0, article='PAIN AU CHOCOLAT', Quantity=2.0, unit_price='1,20 €'),\n",
              " Row(_c0=5, date='2021-01-02', time='09:14', ticket_number=150041.0, article='PAIN', Quantity=1.0, unit_price='1,15 €'),\n",
              " Row(_c0=8, date='2021-01-02', time='09:25', ticket_number=150042.0, article='TRADITIONAL BAGUETTE', Quantity=5.0, unit_price='1,20 €')]"
            ]
          },
          "metadata": {},
          "execution_count": 12
        }
      ]
    },
    {
      "cell_type": "code",
      "source": [
        "#Count number of rows\n",
        "df_bakery.count()"
      ],
      "metadata": {
        "id": "dS-h5DYZwBJd",
        "colab": {
          "base_uri": "https://localhost:8080/"
        },
        "outputId": "b1f171df-2bb1-43b3-8b2d-128a0a97af0b"
      },
      "execution_count": null,
      "outputs": [
        {
          "output_type": "execute_result",
          "data": {
            "text/plain": [
              "50793"
            ]
          },
          "metadata": {},
          "execution_count": 13
        }
      ]
    },
    {
      "cell_type": "code",
      "source": [
        "#Selecting columns\n",
        "#df_bakery.select(col('date'), col('time')).show()\n",
        "df_bakery.select('date', 'time').show()"
      ],
      "metadata": {
        "id": "u4X0AZU8IY_5",
        "colab": {
          "base_uri": "https://localhost:8080/"
        },
        "outputId": "f136affc-3d37-4e08-878a-d0f740628969"
      },
      "execution_count": null,
      "outputs": [
        {
          "output_type": "stream",
          "name": "stdout",
          "text": [
            "+----------+-----+\n",
            "|      date| time|\n",
            "+----------+-----+\n",
            "|2021-01-02|08:38|\n",
            "|2021-01-02|08:38|\n",
            "|2021-01-02|09:14|\n",
            "|2021-01-02|09:14|\n",
            "|2021-01-02|09:25|\n",
            "|2021-01-02|09:25|\n",
            "|2021-01-02|09:25|\n",
            "|2021-01-02|09:27|\n",
            "|2021-01-02|09:32|\n",
            "|2021-01-02|09:32|\n",
            "|2021-01-02|09:37|\n",
            "|2021-01-02|09:37|\n",
            "|2021-01-02|09:37|\n",
            "|2021-01-02|09:39|\n",
            "|2021-01-02|09:40|\n",
            "|2021-01-02|09:40|\n",
            "|2021-01-02|09:41|\n",
            "|2021-01-02|09:46|\n",
            "|2021-01-02|09:48|\n",
            "|2021-01-02|09:48|\n",
            "+----------+-----+\n",
            "only showing top 20 rows\n",
            "\n"
          ]
        }
      ]
    },
    {
      "cell_type": "code",
      "source": [
        "#Taking distinct values from column - first 5\n",
        "df_bakery.select('ticket_number').distinct().head(5)"
      ],
      "metadata": {
        "id": "xq-HlKElK81L",
        "colab": {
          "base_uri": "https://localhost:8080/"
        },
        "outputId": "45cec7af-ee36-482a-d08d-e9731f10df60"
      },
      "execution_count": null,
      "outputs": [
        {
          "output_type": "execute_result",
          "data": {
            "text/plain": [
              "[Row(ticket_number=150828.0),\n",
              " Row(ticket_number=150859.0),\n",
              " Row(ticket_number=150867.0),\n",
              " Row(ticket_number=150903.0),\n",
              " Row(ticket_number=150963.0)]"
            ]
          },
          "metadata": {},
          "execution_count": 15
        }
      ]
    },
    {
      "cell_type": "code",
      "source": [
        "#Counting distinct values from column\n",
        "df_bakery.select('ticket_number').distinct().count()"
      ],
      "metadata": {
        "id": "Rce9_np3LX5g",
        "colab": {
          "base_uri": "https://localhost:8080/"
        },
        "outputId": "b211a4fd-d060-42a2-9afd-3128d195315f"
      },
      "execution_count": null,
      "outputs": [
        {
          "output_type": "execute_result",
          "data": {
            "text/plain": [
              "29565"
            ]
          },
          "metadata": {},
          "execution_count": 16
        }
      ]
    },
    {
      "cell_type": "code",
      "source": [
        "#Filtering values by condition using filter\n",
        "baguette_tickets = df_bakery.filter(df_bakery.article == 'BAGUETTE').show()                                        "
      ],
      "metadata": {
        "id": "6dcVJmY-tMEP",
        "colab": {
          "base_uri": "https://localhost:8080/"
        },
        "outputId": "6ca08727-bdf7-4a0e-89f8-081dd03b3d65"
      },
      "execution_count": null,
      "outputs": [
        {
          "output_type": "stream",
          "name": "stdout",
          "text": [
            "+---+----------+-----+-------------+--------+--------+----------+\n",
            "|_c0|      date| time|ticket_number| article|Quantity|unit_price|\n",
            "+---+----------+-----+-------------+--------+--------+----------+\n",
            "|  0|2021-01-02|08:38|     150040.0|BAGUETTE|     1.0|    0,90 €|\n",
            "| 11|2021-01-02|09:25|     150043.0|BAGUETTE|     2.0|    0,90 €|\n",
            "|102|2021-01-02|10:24|     150066.0|BAGUETTE|     1.0|    0,90 €|\n",
            "|155|2021-01-02|10:51|     150079.0|BAGUETTE|     1.0|    0,90 €|\n",
            "|188|2021-01-02|10:58|     150087.0|BAGUETTE|     2.0|    0,90 €|\n",
            "|194|2021-01-02|11:06|     150089.0|BAGUETTE|     1.0|    0,90 €|\n",
            "|209|2021-01-02|11:14|     150092.0|BAGUETTE|     2.0|    0,90 €|\n",
            "|254|2021-01-02|11:22|     150102.0|BAGUETTE|     1.0|    0,90 €|\n",
            "|273|2021-01-02|11:29|     150107.0|BAGUETTE|     2.0|    0,90 €|\n",
            "|294|2021-01-02|11:34|     150112.0|BAGUETTE|     2.0|    0,90 €|\n",
            "|309|2021-01-02|11:45|     150116.0|BAGUETTE|     4.0|    0,90 €|\n",
            "|313|2021-01-02|11:46|     150117.0|BAGUETTE|     1.0|    0,90 €|\n",
            "|341|2021-01-02|11:51|     150124.0|BAGUETTE|     1.0|    0,90 €|\n",
            "|354|2021-01-02|11:54|     150128.0|BAGUETTE|     1.0|    0,90 €|\n",
            "|401|2021-01-02|12:12|     150141.0|BAGUETTE|     1.0|    0,90 €|\n",
            "|404|2021-01-02|12:13|     150142.0|BAGUETTE|     1.0|    0,90 €|\n",
            "|426|2021-01-02|12:20|     150148.0|BAGUETTE|     2.0|    0,90 €|\n",
            "|432|2021-01-02|12:21|     150150.0|BAGUETTE|     1.0|    0,90 €|\n",
            "|435|2021-01-02|12:21|     150151.0|BAGUETTE|     4.0|    0,90 €|\n",
            "|438|2021-01-02|12:22|     150152.0|BAGUETTE|     2.0|    0,90 €|\n",
            "+---+----------+-----+-------------+--------+--------+----------+\n",
            "only showing top 20 rows\n",
            "\n"
          ]
        }
      ]
    },
    {
      "cell_type": "code",
      "source": [
        "#Create subset filtering values by condition using filter and selecting columns\n",
        "baguette_tickets = df_bakery.filter(df_bakery.article == 'BAGUETTE').select('ticket_number', 'article')\n",
        "baguette_tickets.show()\n",
        "                                        "
      ],
      "metadata": {
        "id": "jjX73xWTvMr1",
        "colab": {
          "base_uri": "https://localhost:8080/"
        },
        "outputId": "ba6a8334-af58-43c7-ec41-376bb38e6852"
      },
      "execution_count": null,
      "outputs": [
        {
          "output_type": "stream",
          "name": "stdout",
          "text": [
            "+-------------+--------+\n",
            "|ticket_number| article|\n",
            "+-------------+--------+\n",
            "|     150040.0|BAGUETTE|\n",
            "|     150043.0|BAGUETTE|\n",
            "|     150066.0|BAGUETTE|\n",
            "|     150079.0|BAGUETTE|\n",
            "|     150087.0|BAGUETTE|\n",
            "|     150089.0|BAGUETTE|\n",
            "|     150092.0|BAGUETTE|\n",
            "|     150102.0|BAGUETTE|\n",
            "|     150107.0|BAGUETTE|\n",
            "|     150112.0|BAGUETTE|\n",
            "|     150116.0|BAGUETTE|\n",
            "|     150117.0|BAGUETTE|\n",
            "|     150124.0|BAGUETTE|\n",
            "|     150128.0|BAGUETTE|\n",
            "|     150141.0|BAGUETTE|\n",
            "|     150142.0|BAGUETTE|\n",
            "|     150148.0|BAGUETTE|\n",
            "|     150150.0|BAGUETTE|\n",
            "|     150151.0|BAGUETTE|\n",
            "|     150152.0|BAGUETTE|\n",
            "+-------------+--------+\n",
            "only showing top 20 rows\n",
            "\n"
          ]
        }
      ]
    },
    {
      "cell_type": "code",
      "source": [],
      "metadata": {
        "id": "-kyvwAkF1Ooh"
      },
      "execution_count": null,
      "outputs": []
    }
  ]
}