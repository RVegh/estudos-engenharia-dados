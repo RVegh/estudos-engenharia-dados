{
  "nbformat": 4,
  "nbformat_minor": 0,
  "metadata": {
    "colab": {
      "provenance": [],
      "authorship_tag": "ABX9TyPrqd/oljEcaRj+7mop7jzL",
      "include_colab_link": true
    },
    "kernelspec": {
      "name": "python3",
      "display_name": "Python 3"
    },
    "language_info": {
      "name": "python"
    }
  },
  "cells": [
    {
      "cell_type": "markdown",
      "metadata": {
        "id": "view-in-github",
        "colab_type": "text"
      },
      "source": [
        "<a href=\"https://colab.research.google.com/github/RVegh/estudos-engenharia-dados/blob/master/pyspark_basics.ipynb\" target=\"_parent\"><img src=\"https://colab.research.google.com/assets/colab-badge.svg\" alt=\"Open In Colab\"/></a>"
      ]
    },
    {
      "cell_type": "code",
      "execution_count": null,
      "metadata": {
        "id": "FmdhsPx_iZ9A"
      },
      "outputs": [],
      "source": [
        "# install the dependencies\n",
        "!apt-get install openjdk-11-jdk-headless -qq > /dev/null\n",
        "!wget -q https://dlcdn.apache.org/spark/spark-3.1.3/spark-3.1.3-bin-hadoop3.2.tgz\n",
        "!tar xf spark-3.1.3-bin-hadoop3.2.tgz\n",
        "!pip -q install findspark"
      ]
    },
    {
      "cell_type": "code",
      "source": [
        "#Setting up variables and finding Spark with findspark module\n",
        "import os\n",
        "import findspark\n",
        "\n",
        "os.environ[\"JAVA_HOME\"] = \"/usr/lib/jvm/java-11-openjdk-amd64\"\n",
        "os.environ[\"SPARK_HOME\"] = \"/content/spark-3.1.3-bin-hadoop3.2\"\n",
        "os.environ['PYSPARK_SUBMIT_ARGS'] = '--packages io.delta:delta-core_2.12:0.7.0 --conf spark.sql.extensions=io.delta.sql.DeltaSparkSessionExtension --conf spark.sql.catalog.spark_catalog=org.apache.spark.sql.delta.catalog.DeltaCatalog pyspark-shell'\n",
        "findspark.init()"
      ],
      "metadata": {
        "id": "dqkaOHv5iuBz"
      },
      "execution_count": null,
      "outputs": []
    },
    {
      "cell_type": "code",
      "source": [
        "#Creating SparkSession\n",
        "from pyspark.sql import SparkSession\n",
        "from pyspark import SparkConf\n",
        "from pyspark.sql.functions import *\n",
        "\n",
        "spark = SparkSession.builder.appName('Spark Training').getOrCreate()"
      ],
      "metadata": {
        "id": "-qHJDwnknNh2"
      },
      "execution_count": null,
      "outputs": []
    },
    {
      "cell_type": "code",
      "source": [
        "path = '/content/bakery_sales.csv'\n",
        "'''\n",
        "Dataframe could also be created using read.format(), read.csv,json, etc, createDataFrame or using schema.\n",
        "\n",
        "Ex:\n",
        "df_bakery = spark.read.option(\"inferSchema\",True) \\\n",
        "                      .option(\"header\", True) \\\n",
        "                      .csv(path)\n",
        "'''\n",
        "df_bakery = (\n",
        "              spark.read.format(\"csv\") \\\n",
        "                  .option(\"inferSchema\", True) \\\n",
        "                  .option(\"delimiter\", \",\") \\\n",
        "                  .option(\"header\", True) \\\n",
        "                  .load(path)\n",
        ")\n"
      ],
      "metadata": {
        "id": "UFxvWn6xruOU"
      },
      "execution_count": null,
      "outputs": []
    },
    {
      "cell_type": "code",
      "source": [
        "#Show schema\n",
        "df_bakery.printSchema()"
      ],
      "metadata": {
        "colab": {
          "base_uri": "https://localhost:8080/"
        },
        "id": "Alz1m6G_KWZz",
        "outputId": "9ad4d3cf-bbe2-4ed7-f62e-71bdcd8fa912"
      },
      "execution_count": null,
      "outputs": [
        {
          "output_type": "stream",
          "name": "stdout",
          "text": [
            "root\n",
            " |-- _c0: integer (nullable = true)\n",
            " |-- date: string (nullable = true)\n",
            " |-- time: string (nullable = true)\n",
            " |-- ticket_number: double (nullable = true)\n",
            " |-- article: string (nullable = true)\n",
            " |-- Quantity: double (nullable = true)\n",
            " |-- unit_price: string (nullable = true)\n",
            "\n"
          ]
        }
      ]
    },
    {
      "cell_type": "code",
      "source": [
        "#Show dataframe\n",
        "#display(df_bakery)\n",
        "df_bakery.show()"
      ],
      "metadata": {
        "colab": {
          "base_uri": "https://localhost:8080/"
        },
        "id": "FTzUtrK-s-hX",
        "outputId": "8373e0af-b296-499c-e39d-9581beb6ecf1"
      },
      "execution_count": null,
      "outputs": [
        {
          "output_type": "stream",
          "name": "stdout",
          "text": [
            "+---+----------+-----+-------------+--------------------+--------+----------+\n",
            "|_c0|      date| time|ticket_number|             article|Quantity|unit_price|\n",
            "+---+----------+-----+-------------+--------------------+--------+----------+\n",
            "|  0|2021-01-02|08:38|     150040.0|            BAGUETTE|     1.0|    0,90 €|\n",
            "|  1|2021-01-02|08:38|     150040.0|    PAIN AU CHOCOLAT|     3.0|    1,20 €|\n",
            "|  4|2021-01-02|09:14|     150041.0|    PAIN AU CHOCOLAT|     2.0|    1,20 €|\n",
            "|  5|2021-01-02|09:14|     150041.0|                PAIN|     1.0|    1,15 €|\n",
            "|  8|2021-01-02|09:25|     150042.0|TRADITIONAL BAGUETTE|     5.0|    1,20 €|\n",
            "| 11|2021-01-02|09:25|     150043.0|            BAGUETTE|     2.0|    0,90 €|\n",
            "| 12|2021-01-02|09:25|     150043.0|           CROISSANT|     3.0|    1,10 €|\n",
            "| 15|2021-01-02|09:27|     150044.0|             BANETTE|     1.0|    1,05 €|\n",
            "| 18|2021-01-02|09:32|     150045.0|TRADITIONAL BAGUETTE|     3.0|    1,20 €|\n",
            "| 19|2021-01-02|09:32|     150045.0|           CROISSANT|     6.0|    1,10 €|\n",
            "| 22|2021-01-02|09:37|     150046.0|    PAIN AU CHOCOLAT|     6.0|    1,20 €|\n",
            "| 23|2021-01-02|09:37|     150046.0|           CROISSANT|     6.0|    1,10 €|\n",
            "| 24|2021-01-02|09:37|     150046.0|TRADITIONAL BAGUETTE|     6.0|    1,20 €|\n",
            "| 29|2021-01-02|09:39|     150048.0|           CROISSANT|     3.0|    1,10 €|\n",
            "| 32|2021-01-02|09:40|     150049.0|           CROISSANT|     2.0|    1,10 €|\n",
            "| 33|2021-01-02|09:40|     150049.0|TRADITIONAL BAGUETTE|     1.0|    1,20 €|\n",
            "| 36|2021-01-02|09:41|     150050.0|TRADITIONAL BAGUETTE|     2.0|    1,20 €|\n",
            "| 39|2021-01-02|09:46|     150051.0|                PAIN|     1.0|    1,15 €|\n",
            "| 42|2021-01-02|09:48|     150052.0|           BANETTINE|     1.0|    0,60 €|\n",
            "| 43|2021-01-02|09:48|     150052.0|       SPECIAL BREAD|     1.0|    2,40 €|\n",
            "+---+----------+-----+-------------+--------------------+--------+----------+\n",
            "only showing top 20 rows\n",
            "\n"
          ]
        }
      ]
    },
    {
      "cell_type": "code",
      "source": [
        "#Describe dataframe basic statistics \n",
        "df_bakery.describe()"
      ],
      "metadata": {
        "colab": {
          "base_uri": "https://localhost:8080/"
        },
        "id": "lENlTuoCKs0d",
        "outputId": "bb8b6966-556e-4bbd-dbcd-77d4023b372b"
      },
      "execution_count": null,
      "outputs": [
        {
          "output_type": "execute_result",
          "data": {
            "text/plain": [
              "DataFrame[summary: string, _c0: string, date: string, time: string, ticket_number: string, article: string, Quantity: string, unit_price: string]"
            ]
          },
          "metadata": {},
          "execution_count": 25
        }
      ]
    },
    {
      "cell_type": "code",
      "source": [
        "#Show the first x dataframe rows\n",
        "df_bakery.head(5)"
      ],
      "metadata": {
        "colab": {
          "base_uri": "https://localhost:8080/"
        },
        "id": "tECn3_9Dv-p3",
        "outputId": "0370aac6-0320-4fcc-a83e-77789fd2212e"
      },
      "execution_count": null,
      "outputs": [
        {
          "output_type": "execute_result",
          "data": {
            "text/plain": [
              "[Row(_c0=0, date='2021-01-02', time='08:38', ticket_number=150040.0, article='BAGUETTE', Quantity=1.0, unit_price='0,90 €'),\n",
              " Row(_c0=1, date='2021-01-02', time='08:38', ticket_number=150040.0, article='PAIN AU CHOCOLAT', Quantity=3.0, unit_price='1,20 €'),\n",
              " Row(_c0=4, date='2021-01-02', time='09:14', ticket_number=150041.0, article='PAIN AU CHOCOLAT', Quantity=2.0, unit_price='1,20 €'),\n",
              " Row(_c0=5, date='2021-01-02', time='09:14', ticket_number=150041.0, article='PAIN', Quantity=1.0, unit_price='1,15 €'),\n",
              " Row(_c0=8, date='2021-01-02', time='09:25', ticket_number=150042.0, article='TRADITIONAL BAGUETTE', Quantity=5.0, unit_price='1,20 €')]"
            ]
          },
          "metadata": {},
          "execution_count": 21
        }
      ]
    },
    {
      "cell_type": "code",
      "source": [
        "#Count number of rows\n",
        "df_bakery.count()"
      ],
      "metadata": {
        "colab": {
          "base_uri": "https://localhost:8080/"
        },
        "id": "dS-h5DYZwBJd",
        "outputId": "a8e00bed-547a-479f-c17a-339255347fe1"
      },
      "execution_count": null,
      "outputs": [
        {
          "output_type": "execute_result",
          "data": {
            "text/plain": [
              "33951"
            ]
          },
          "metadata": {},
          "execution_count": 15
        }
      ]
    },
    {
      "cell_type": "code",
      "source": [
        "#Selecting columns\n",
        "#df_bakery.select(col('date'), col('time')).show()\n",
        "df_bakery.select('date', 'time').show()"
      ],
      "metadata": {
        "colab": {
          "base_uri": "https://localhost:8080/"
        },
        "id": "u4X0AZU8IY_5",
        "outputId": "88fa71d9-9588-4499-80f6-4abdfc000746"
      },
      "execution_count": null,
      "outputs": [
        {
          "output_type": "stream",
          "name": "stdout",
          "text": [
            "+----------+-----+\n",
            "|      date| time|\n",
            "+----------+-----+\n",
            "|2021-01-02|08:38|\n",
            "|2021-01-02|08:38|\n",
            "|2021-01-02|09:14|\n",
            "|2021-01-02|09:14|\n",
            "|2021-01-02|09:25|\n",
            "|2021-01-02|09:25|\n",
            "|2021-01-02|09:25|\n",
            "|2021-01-02|09:27|\n",
            "|2021-01-02|09:32|\n",
            "|2021-01-02|09:32|\n",
            "|2021-01-02|09:37|\n",
            "|2021-01-02|09:37|\n",
            "|2021-01-02|09:37|\n",
            "|2021-01-02|09:39|\n",
            "|2021-01-02|09:40|\n",
            "|2021-01-02|09:40|\n",
            "|2021-01-02|09:41|\n",
            "|2021-01-02|09:46|\n",
            "|2021-01-02|09:48|\n",
            "|2021-01-02|09:48|\n",
            "+----------+-----+\n",
            "only showing top 20 rows\n",
            "\n",
            "+----------+-----+\n",
            "|      date| time|\n",
            "+----------+-----+\n",
            "|2021-01-02|08:38|\n",
            "|2021-01-02|08:38|\n",
            "|2021-01-02|09:14|\n",
            "|2021-01-02|09:14|\n",
            "|2021-01-02|09:25|\n",
            "|2021-01-02|09:25|\n",
            "|2021-01-02|09:25|\n",
            "|2021-01-02|09:27|\n",
            "|2021-01-02|09:32|\n",
            "|2021-01-02|09:32|\n",
            "|2021-01-02|09:37|\n",
            "|2021-01-02|09:37|\n",
            "|2021-01-02|09:37|\n",
            "|2021-01-02|09:39|\n",
            "|2021-01-02|09:40|\n",
            "|2021-01-02|09:40|\n",
            "|2021-01-02|09:41|\n",
            "|2021-01-02|09:46|\n",
            "|2021-01-02|09:48|\n",
            "|2021-01-02|09:48|\n",
            "+----------+-----+\n",
            "only showing top 20 rows\n",
            "\n"
          ]
        }
      ]
    },
    {
      "cell_type": "code",
      "source": [
        "df_bakery.select('ticket_number').distinct().count()"
      ],
      "metadata": {
        "colab": {
          "base_uri": "https://localhost:8080/"
        },
        "id": "xq-HlKElK81L",
        "outputId": "1c1270aa-0284-406b-dd53-550d4a7d39d6"
      },
      "execution_count": null,
      "outputs": [
        {
          "output_type": "execute_result",
          "data": {
            "text/plain": [
              "19919"
            ]
          },
          "metadata": {},
          "execution_count": 34
        }
      ]
    },
    {
      "cell_type": "code",
      "source": [],
      "metadata": {
        "id": "Rce9_np3LX5g"
      },
      "execution_count": null,
      "outputs": []
    }
  ]
}