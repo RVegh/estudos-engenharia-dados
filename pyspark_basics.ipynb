{
  "nbformat": 4,
  "nbformat_minor": 0,
  "metadata": {
    "colab": {
      "provenance": [],
      "collapsed_sections": [],
      "authorship_tag": "ABX9TyNhEhxF6zdhyKcd5OWdekUu",
      "include_colab_link": true
    },
    "kernelspec": {
      "name": "python3",
      "display_name": "Python 3"
    },
    "language_info": {
      "name": "python"
    }
  },
  "cells": [
    {
      "cell_type": "markdown",
      "metadata": {
        "id": "view-in-github",
        "colab_type": "text"
      },
      "source": [
        "<a href=\"https://colab.research.google.com/github/RVegh/estudos-engenharia-dados/blob/master/pyspark_basics.ipynb\" target=\"_parent\"><img src=\"https://colab.research.google.com/assets/colab-badge.svg\" alt=\"Open In Colab\"/></a>"
      ]
    },
    {
      "cell_type": "code",
      "execution_count": 1,
      "metadata": {
        "id": "FmdhsPx_iZ9A"
      },
      "outputs": [],
      "source": [
        "# install the dependencies\n",
        "!apt-get install openjdk-11-jdk-headless -qq > /dev/null\n",
        "!wget -q https://dlcdn.apache.org/spark/spark-3.1.3/spark-3.1.3-bin-hadoop3.2.tgz\n",
        "!tar xf spark-3.1.3-bin-hadoop3.2.tgz\n",
        "!pip -q install findspark"
      ]
    },
    {
      "cell_type": "code",
      "source": [
        "#Setting up variables and finding Spark with findspark module\n",
        "import os\n",
        "import findspark\n",
        "\n",
        "os.environ[\"JAVA_HOME\"] = \"/usr/lib/jvm/java-11-openjdk-amd64\"\n",
        "os.environ[\"SPARK_HOME\"] = \"/content/spark-3.1.3-bin-hadoop3.2\"\n",
        "os.environ['PYSPARK_SUBMIT_ARGS'] = '--packages io.delta:delta-core_2.12:0.7.0 --conf spark.sql.extensions=io.delta.sql.DeltaSparkSessionExtension --conf spark.sql.catalog.spark_catalog=org.apache.spark.sql.delta.catalog.DeltaCatalog pyspark-shell'\n",
        "findspark.init()"
      ],
      "metadata": {
        "id": "dqkaOHv5iuBz"
      },
      "execution_count": 2,
      "outputs": []
    },
    {
      "cell_type": "code",
      "source": [
        "#Creating SparkSession\n",
        "from pyspark.sql import SparkSession\n",
        "from pyspark import SparkConf\n",
        "from pyspark.sql.functions import *\n",
        "\n",
        "spark = SparkSession.builder.appName('Spark Training').getOrCreate()"
      ],
      "metadata": {
        "id": "-qHJDwnknNh2"
      },
      "execution_count": 3,
      "outputs": []
    },
    {
      "cell_type": "code",
      "source": [
        "path = '/content/bakery_sales.csv'\n",
        "\n",
        "'''\n",
        "Dataframe could also be created using read.format(), read.csv,json, etc, createDataFrame or using schema.\n",
        "\n",
        "Ex:\n",
        "df_bakery = (spark.read.option(\"inferSchema\",True) \\\n",
        "                      .option(\"header\", True) \\\n",
        "                      .csv(path)\n",
        ")\n",
        "\n",
        "or\n",
        "\n",
        "df_bakery = spark.read.table(\"<catalog_name>.<schema_name>.<table_name>\")\n",
        "\n",
        "etc.\n",
        "\n",
        "'''\n",
        "df_bakery = (\n",
        "              spark.read.format(\"csv\") \\\n",
        "                  .option(\"inferSchema\", True) \\\n",
        "                  .option(\"delimiter\", \",\") \\\n",
        "                  .option(\"header\", True) \\\n",
        "                  .load(path)\n",
        ")\n"
      ],
      "metadata": {
        "id": "UFxvWn6xruOU"
      },
      "execution_count": 5,
      "outputs": []
    },
    {
      "cell_type": "code",
      "source": [
        "#Show schema\n",
        "df_bakery.printSchema()"
      ],
      "metadata": {
        "colab": {
          "base_uri": "https://localhost:8080/"
        },
        "id": "Alz1m6G_KWZz",
        "outputId": "b62ba752-b672-43be-a77a-09789624430f"
      },
      "execution_count": 6,
      "outputs": [
        {
          "output_type": "stream",
          "name": "stdout",
          "text": [
            "root\n",
            " |-- _c0: integer (nullable = true)\n",
            " |-- date: string (nullable = true)\n",
            " |-- time: string (nullable = true)\n",
            " |-- ticket_number: double (nullable = true)\n",
            " |-- article: string (nullable = true)\n",
            " |-- Quantity: double (nullable = true)\n",
            " |-- unit_price: string (nullable = true)\n",
            "\n"
          ]
        }
      ]
    },
    {
      "cell_type": "code",
      "source": [
        "#Show dataframe\n",
        "#display(df_bakery)\n",
        "df_bakery.show()"
      ],
      "metadata": {
        "colab": {
          "base_uri": "https://localhost:8080/"
        },
        "id": "FTzUtrK-s-hX",
        "outputId": "bac7c420-93bb-439f-e6f9-b701b8b591f0"
      },
      "execution_count": 7,
      "outputs": [
        {
          "output_type": "stream",
          "name": "stdout",
          "text": [
            "+---+----------+-----+-------------+--------------------+--------+----------+\n",
            "|_c0|      date| time|ticket_number|             article|Quantity|unit_price|\n",
            "+---+----------+-----+-------------+--------------------+--------+----------+\n",
            "|  0|2021-01-02|08:38|     150040.0|            BAGUETTE|     1.0|    0,90 €|\n",
            "|  1|2021-01-02|08:38|     150040.0|    PAIN AU CHOCOLAT|     3.0|    1,20 €|\n",
            "|  4|2021-01-02|09:14|     150041.0|    PAIN AU CHOCOLAT|     2.0|    1,20 €|\n",
            "|  5|2021-01-02|09:14|     150041.0|                PAIN|     1.0|    1,15 €|\n",
            "|  8|2021-01-02|09:25|     150042.0|TRADITIONAL BAGUETTE|     5.0|    1,20 €|\n",
            "| 11|2021-01-02|09:25|     150043.0|            BAGUETTE|     2.0|    0,90 €|\n",
            "| 12|2021-01-02|09:25|     150043.0|           CROISSANT|     3.0|    1,10 €|\n",
            "| 15|2021-01-02|09:27|     150044.0|             BANETTE|     1.0|    1,05 €|\n",
            "| 18|2021-01-02|09:32|     150045.0|TRADITIONAL BAGUETTE|     3.0|    1,20 €|\n",
            "| 19|2021-01-02|09:32|     150045.0|           CROISSANT|     6.0|    1,10 €|\n",
            "| 22|2021-01-02|09:37|     150046.0|    PAIN AU CHOCOLAT|     6.0|    1,20 €|\n",
            "| 23|2021-01-02|09:37|     150046.0|           CROISSANT|     6.0|    1,10 €|\n",
            "| 24|2021-01-02|09:37|     150046.0|TRADITIONAL BAGUETTE|     6.0|    1,20 €|\n",
            "| 29|2021-01-02|09:39|     150048.0|           CROISSANT|     3.0|    1,10 €|\n",
            "| 32|2021-01-02|09:40|     150049.0|           CROISSANT|     2.0|    1,10 €|\n",
            "| 33|2021-01-02|09:40|     150049.0|TRADITIONAL BAGUETTE|     1.0|    1,20 €|\n",
            "| 36|2021-01-02|09:41|     150050.0|TRADITIONAL BAGUETTE|     2.0|    1,20 €|\n",
            "| 39|2021-01-02|09:46|     150051.0|                PAIN|     1.0|    1,15 €|\n",
            "| 42|2021-01-02|09:48|     150052.0|           BANETTINE|     1.0|    0,60 €|\n",
            "| 43|2021-01-02|09:48|     150052.0|       SPECIAL BREAD|     1.0|    2,40 €|\n",
            "+---+----------+-----+-------------+--------------------+--------+----------+\n",
            "only showing top 20 rows\n",
            "\n"
          ]
        }
      ]
    },
    {
      "cell_type": "code",
      "source": [
        "#Describe dataframe basic statistics \n",
        "df_bakery.describe()"
      ],
      "metadata": {
        "colab": {
          "base_uri": "https://localhost:8080/"
        },
        "id": "lENlTuoCKs0d",
        "outputId": "0688a1e6-7e54-4415-e17b-b06a92a7c1e3"
      },
      "execution_count": 8,
      "outputs": [
        {
          "output_type": "execute_result",
          "data": {
            "text/plain": [
              "DataFrame[summary: string, _c0: string, date: string, time: string, ticket_number: string, article: string, Quantity: string, unit_price: string]"
            ]
          },
          "metadata": {},
          "execution_count": 8
        }
      ]
    },
    {
      "cell_type": "code",
      "source": [
        "#Show the first x dataframe rows\n",
        "df_bakery.head(5)"
      ],
      "metadata": {
        "colab": {
          "base_uri": "https://localhost:8080/"
        },
        "id": "tECn3_9Dv-p3",
        "outputId": "a78dbede-6b6c-4c4d-a419-fa06e65a0041"
      },
      "execution_count": 9,
      "outputs": [
        {
          "output_type": "execute_result",
          "data": {
            "text/plain": [
              "[Row(_c0=0, date='2021-01-02', time='08:38', ticket_number=150040.0, article='BAGUETTE', Quantity=1.0, unit_price='0,90 €'),\n",
              " Row(_c0=1, date='2021-01-02', time='08:38', ticket_number=150040.0, article='PAIN AU CHOCOLAT', Quantity=3.0, unit_price='1,20 €'),\n",
              " Row(_c0=4, date='2021-01-02', time='09:14', ticket_number=150041.0, article='PAIN AU CHOCOLAT', Quantity=2.0, unit_price='1,20 €'),\n",
              " Row(_c0=5, date='2021-01-02', time='09:14', ticket_number=150041.0, article='PAIN', Quantity=1.0, unit_price='1,15 €'),\n",
              " Row(_c0=8, date='2021-01-02', time='09:25', ticket_number=150042.0, article='TRADITIONAL BAGUETTE', Quantity=5.0, unit_price='1,20 €')]"
            ]
          },
          "metadata": {},
          "execution_count": 9
        }
      ]
    },
    {
      "cell_type": "code",
      "source": [
        "#Count number of rows\n",
        "df_bakery.count()"
      ],
      "metadata": {
        "colab": {
          "base_uri": "https://localhost:8080/"
        },
        "id": "dS-h5DYZwBJd",
        "outputId": "cb381835-f754-4ca0-bd17-22fb05206608"
      },
      "execution_count": 14,
      "outputs": [
        {
          "output_type": "execute_result",
          "data": {
            "text/plain": [
              "234005"
            ]
          },
          "metadata": {},
          "execution_count": 14
        }
      ]
    },
    {
      "cell_type": "code",
      "source": [
        "#Selecting columns\n",
        "#df_bakery.select(col('date'), col('time')).show()\n",
        "df_bakery.select('date', 'time').show()"
      ],
      "metadata": {
        "colab": {
          "base_uri": "https://localhost:8080/"
        },
        "id": "u4X0AZU8IY_5",
        "outputId": "ce130789-93ba-4253-84ad-fd8a460ba157"
      },
      "execution_count": 13,
      "outputs": [
        {
          "output_type": "stream",
          "name": "stdout",
          "text": [
            "+----------+-----+\n",
            "|      date| time|\n",
            "+----------+-----+\n",
            "|2021-01-02|08:38|\n",
            "|2021-01-02|08:38|\n",
            "|2021-01-02|09:14|\n",
            "|2021-01-02|09:14|\n",
            "|2021-01-02|09:25|\n",
            "|2021-01-02|09:25|\n",
            "|2021-01-02|09:25|\n",
            "|2021-01-02|09:27|\n",
            "|2021-01-02|09:32|\n",
            "|2021-01-02|09:32|\n",
            "|2021-01-02|09:37|\n",
            "|2021-01-02|09:37|\n",
            "|2021-01-02|09:37|\n",
            "|2021-01-02|09:39|\n",
            "|2021-01-02|09:40|\n",
            "|2021-01-02|09:40|\n",
            "|2021-01-02|09:41|\n",
            "|2021-01-02|09:46|\n",
            "|2021-01-02|09:48|\n",
            "|2021-01-02|09:48|\n",
            "+----------+-----+\n",
            "only showing top 20 rows\n",
            "\n"
          ]
        }
      ]
    },
    {
      "cell_type": "code",
      "source": [
        "#Taking distinct values from column - first 5\n",
        "df_bakery.select('ticket_number').distinct().head(5)"
      ],
      "metadata": {
        "colab": {
          "base_uri": "https://localhost:8080/"
        },
        "id": "xq-HlKElK81L",
        "outputId": "b3df9a06-0da1-4929-f020-ee305ec5058d"
      },
      "execution_count": 17,
      "outputs": [
        {
          "output_type": "execute_result",
          "data": {
            "text/plain": [
              "[Row(ticket_number=150828.0),\n",
              " Row(ticket_number=150859.0),\n",
              " Row(ticket_number=150867.0),\n",
              " Row(ticket_number=150903.0),\n",
              " Row(ticket_number=150963.0)]"
            ]
          },
          "metadata": {},
          "execution_count": 17
        }
      ]
    },
    {
      "cell_type": "code",
      "source": [
        "#Counting distinct values from column\n",
        "df_bakery.select('ticket_number').distinct().count()"
      ],
      "metadata": {
        "id": "Rce9_np3LX5g",
        "colab": {
          "base_uri": "https://localhost:8080/"
        },
        "outputId": "586c993b-92c0-41fa-f272-fbaad4bd5bb4"
      },
      "execution_count": 18,
      "outputs": [
        {
          "output_type": "execute_result",
          "data": {
            "text/plain": [
              "136451"
            ]
          },
          "metadata": {},
          "execution_count": 18
        }
      ]
    },
    {
      "cell_type": "code",
      "source": [
        "#Filtering values by condition using filter\n",
        "baguette_tickets = df_bakery.filter(df_bakery.article == 'BAGUETTE').show()                                        "
      ],
      "metadata": {
        "colab": {
          "base_uri": "https://localhost:8080/"
        },
        "id": "6dcVJmY-tMEP",
        "outputId": "73665660-362f-425b-f761-1d2fcff857a1"
      },
      "execution_count": 35,
      "outputs": [
        {
          "output_type": "stream",
          "name": "stdout",
          "text": [
            "+---+----------+-----+-------------+--------+--------+----------+\n",
            "|_c0|      date| time|ticket_number| article|Quantity|unit_price|\n",
            "+---+----------+-----+-------------+--------+--------+----------+\n",
            "|  0|2021-01-02|08:38|     150040.0|BAGUETTE|     1.0|    0,90 €|\n",
            "| 11|2021-01-02|09:25|     150043.0|BAGUETTE|     2.0|    0,90 €|\n",
            "|102|2021-01-02|10:24|     150066.0|BAGUETTE|     1.0|    0,90 €|\n",
            "|155|2021-01-02|10:51|     150079.0|BAGUETTE|     1.0|    0,90 €|\n",
            "|188|2021-01-02|10:58|     150087.0|BAGUETTE|     2.0|    0,90 €|\n",
            "|194|2021-01-02|11:06|     150089.0|BAGUETTE|     1.0|    0,90 €|\n",
            "|209|2021-01-02|11:14|     150092.0|BAGUETTE|     2.0|    0,90 €|\n",
            "|254|2021-01-02|11:22|     150102.0|BAGUETTE|     1.0|    0,90 €|\n",
            "|273|2021-01-02|11:29|     150107.0|BAGUETTE|     2.0|    0,90 €|\n",
            "|294|2021-01-02|11:34|     150112.0|BAGUETTE|     2.0|    0,90 €|\n",
            "|309|2021-01-02|11:45|     150116.0|BAGUETTE|     4.0|    0,90 €|\n",
            "|313|2021-01-02|11:46|     150117.0|BAGUETTE|     1.0|    0,90 €|\n",
            "|341|2021-01-02|11:51|     150124.0|BAGUETTE|     1.0|    0,90 €|\n",
            "|354|2021-01-02|11:54|     150128.0|BAGUETTE|     1.0|    0,90 €|\n",
            "|401|2021-01-02|12:12|     150141.0|BAGUETTE|     1.0|    0,90 €|\n",
            "|404|2021-01-02|12:13|     150142.0|BAGUETTE|     1.0|    0,90 €|\n",
            "|426|2021-01-02|12:20|     150148.0|BAGUETTE|     2.0|    0,90 €|\n",
            "|432|2021-01-02|12:21|     150150.0|BAGUETTE|     1.0|    0,90 €|\n",
            "|435|2021-01-02|12:21|     150151.0|BAGUETTE|     4.0|    0,90 €|\n",
            "|438|2021-01-02|12:22|     150152.0|BAGUETTE|     2.0|    0,90 €|\n",
            "+---+----------+-----+-------------+--------+--------+----------+\n",
            "only showing top 20 rows\n",
            "\n"
          ]
        }
      ]
    },
    {
      "cell_type": "code",
      "source": [
        "#Create subset filtering values by condition using filter and selecting columns\n",
        "baguette_tickets = df_bakery.filter(df_bakery.article == 'BAGUETTE').select('ticket_number', 'article')\n",
        "baguette_tickets.show()\n",
        "                                        "
      ],
      "metadata": {
        "colab": {
          "base_uri": "https://localhost:8080/"
        },
        "id": "jjX73xWTvMr1",
        "outputId": "ccabfd0a-c314-4b68-fc0b-53aa13ccc315"
      },
      "execution_count": 36,
      "outputs": [
        {
          "output_type": "stream",
          "name": "stdout",
          "text": [
            "+-------------+--------+\n",
            "|ticket_number| article|\n",
            "+-------------+--------+\n",
            "|     150040.0|BAGUETTE|\n",
            "|     150043.0|BAGUETTE|\n",
            "|     150066.0|BAGUETTE|\n",
            "|     150079.0|BAGUETTE|\n",
            "|     150087.0|BAGUETTE|\n",
            "|     150089.0|BAGUETTE|\n",
            "|     150092.0|BAGUETTE|\n",
            "|     150102.0|BAGUETTE|\n",
            "|     150107.0|BAGUETTE|\n",
            "|     150112.0|BAGUETTE|\n",
            "|     150116.0|BAGUETTE|\n",
            "|     150117.0|BAGUETTE|\n",
            "|     150124.0|BAGUETTE|\n",
            "|     150128.0|BAGUETTE|\n",
            "|     150141.0|BAGUETTE|\n",
            "|     150142.0|BAGUETTE|\n",
            "|     150148.0|BAGUETTE|\n",
            "|     150150.0|BAGUETTE|\n",
            "|     150151.0|BAGUETTE|\n",
            "|     150152.0|BAGUETTE|\n",
            "+-------------+--------+\n",
            "only showing top 20 rows\n",
            "\n"
          ]
        }
      ]
    },
    {
      "cell_type": "code",
      "source": [],
      "metadata": {
        "id": "-kyvwAkF1Ooh"
      },
      "execution_count": null,
      "outputs": []
    }
  ]
}