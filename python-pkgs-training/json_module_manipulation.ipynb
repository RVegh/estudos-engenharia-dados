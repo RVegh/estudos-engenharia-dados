{
 "cells": [
  {
   "cell_type": "code",
   "execution_count": 1,
   "metadata": {},
   "outputs": [],
   "source": [
    "import json\n",
    "from time import sleep"
   ]
  },
  {
   "cell_type": "code",
   "execution_count": 2,
   "metadata": {},
   "outputs": [],
   "source": [
    "example_json = {\n",
    "    \"widget\": {\n",
    "        \"debug\": \"on\",\n",
    "        \"window\": {\n",
    "            \"title\": \"Sample Konfabulator Widget\",\n",
    "            \"name\": \"main_window\",\n",
    "            \"width\": 500,\n",
    "            \"height\": 500\n",
    "        },\n",
    "        \"image\": { \n",
    "            \"src\": \"Images/Sun.png\",\n",
    "            \"name\": \"sun1\",\n",
    "            \"hOffset\": 250,\n",
    "            \"vOffset\": 250,\n",
    "            \"alignment\": \"center\"\n",
    "        },\n",
    "        \"text\": {\n",
    "            \"data\": \"Click Here\",\n",
    "            \"size\": 36,\n",
    "            \"style\": \"bold\",\n",
    "            \"name\": \"text1\",\n",
    "            \"hOffset\": 250,\n",
    "            \"vOffset\": 100,\n",
    "            \"alignment\": \"center\",\n",
    "            \"onMouseUp\": \"sun1.opacity = (sun1.opacity / 100) * 90;\"\n",
    "        }\n",
    "    }\n",
    "}    "
   ]
  },
  {
   "cell_type": "code",
   "execution_count": 3,
   "metadata": {},
   "outputs": [
    {
     "name": "stdout",
     "output_type": "stream",
     "text": [
      "This is the main key in the json: dict_keys(['widget'])\n",
      "This is a key in the json main key: dict_keys(['debug', 'window', 'image', 'text'])\n",
      "\n",
      "The widget json key has these keys inside: dict_keys(['debug', 'window', 'image', 'text'])\n",
      "\n",
      "These are the values in the main json key widget: dict_values(['on', {'title': 'Sample Konfabulator Widget', 'name': 'main_window', 'width': 500, 'height': 500}, {'src': 'Images/Sun.png', 'name': 'sun1', 'hOffset': 250, 'vOffset': 250, 'alignment': 'center'}, {'data': 'Click Here', 'size': 36, 'style': 'bold', 'name': 'text1', 'hOffset': 250, 'vOffset': 100, 'alignment': 'center', 'onMouseUp': 'sun1.opacity = (sun1.opacity / 100) * 90;'}])\n",
      "\n",
      "This are the values in the inside key image: dict_values(['Images/Sun.png', 'sun1', 250, 250, 'center'])\n",
      "Using get method to return a value from src key inside image key. Value: Images/Sun.png\n",
      "\n",
      "This are the keys in the inside key image: dict_keys(['src', 'name', 'hOffset', 'vOffset', 'alignment'])\n",
      "\n"
     ]
    }
   ],
   "source": [
    "#keys() method returns the json/dict keys.\n",
    "print('This is the main key in the json:', example_json.keys())\n",
    "print('This is a key in the json main key:', example_json.get('widget').keys())\n",
    "print()\n",
    "\n",
    "#If the json key have other keys, passing the key in square brackets and using keys() method return them.\n",
    "print('The widget json key has these keys inside:', example_json.get('widget').keys())\n",
    "print()\n",
    "\n",
    "#Passing the main key and using values() method returns all the content, both keys and values.\n",
    "print('These are the values in the main json key widget:', example_json['widget'].values())\n",
    "print()\n",
    "\n",
    "#Inside keys values could be accessed using get() method to take a specific value or passing a second/third/etc key inside square brackets.\n",
    "#example_json['widget']['text']['data']\n",
    "print('This are the values in the inside key image:', example_json['widget']['image'].values())\n",
    "print('Using get method to return a value from src key inside image key. Value:', example_json['widget']['image'].get('src'))\n",
    "print()\n",
    "\n",
    "#These also works when getting the inner keys.\n",
    "print('This are the keys in the inside key image:', example_json['widget']['image'].keys())\n",
    "print()\n",
    "\n",
    "time.\n"
   ]
  },
  {
   "cell_type": "code",
   "execution_count": null,
   "metadata": {},
   "outputs": [],
   "source": [
    "\n",
    "for content in example_json.get('widget'):\n",
    "    print(content)\n",
    "    time.sleep(2)\n",
    "    \n",
    "    for key in example_json['widget'].get(content):\n",
    "        print(key)\n",
    "    "
   ]
  }
 ],
 "metadata": {
  "kernelspec": {
   "display_name": "Python 3",
   "language": "python",
   "name": "python3"
  },
  "language_info": {
   "codemirror_mode": {
    "name": "ipython",
    "version": 3
   },
   "file_extension": ".py",
   "mimetype": "text/x-python",
   "name": "python",
   "nbconvert_exporter": "python",
   "pygments_lexer": "ipython3",
   "version": "3.10.6"
  },
  "orig_nbformat": 4,
  "vscode": {
   "interpreter": {
    "hash": "c9f4eb8187150df23194d12dd9682400910c16b22896f5793d13e671581e7178"
   }
  }
 },
 "nbformat": 4,
 "nbformat_minor": 2
}
