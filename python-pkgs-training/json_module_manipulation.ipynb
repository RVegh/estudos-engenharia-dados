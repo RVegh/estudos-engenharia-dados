{
 "cells": [
  {
   "cell_type": "code",
   "execution_count": 1,
   "metadata": {},
   "outputs": [],
   "source": [
    "import json\n",
    "from time import sleep"
   ]
  },
  {
   "cell_type": "code",
   "execution_count": 2,
   "metadata": {},
   "outputs": [],
   "source": [
    "example_json = {\n",
    "    \"widget\": {\n",
    "        \"debug\": \"on\",\n",
    "        \"window\": {\n",
    "            \"title\": \"Sample Konfabulator Widget\",\n",
    "            \"name\": \"main_window\",\n",
    "            \"width\": 500,\n",
    "            \"height\": 500\n",
    "        },\n",
    "        \"image\": { \n",
    "            \"src\": \"Images/Sun.png\",\n",
    "            \"name\": \"sun1\",\n",
    "            \"hOffset\": 250,\n",
    "            \"vOffset\": 250,\n",
    "            \"alignment\": \"center\"\n",
    "        },\n",
    "        \"text\": {\n",
    "            \"data\": \"Click Here\",\n",
    "            \"size\": 36,\n",
    "            \"style\": \"bold\",\n",
    "            \"name\": \"text1\",\n",
    "            \"hOffset\": 250,\n",
    "            \"vOffset\": 100,\n",
    "            \"alignment\": \"center\",\n",
    "            \"onMouseUp\": \"sun1.opacity = (sun1.opacity / 100) * 90;\"\n",
    "        }\n",
    "    }\n",
    "}    "
   ]
  },
  {
   "cell_type": "code",
   "execution_count": 3,
   "metadata": {},
   "outputs": [
    {
     "name": "stdout",
     "output_type": "stream",
     "text": [
      "This is the main key in the json: dict_keys(['widget'])\n",
      "This is a key in the json main key: dict_keys(['debug', 'window', 'image', 'text'])\n",
      "\n",
      "The widget json key has these keys inside: dict_keys(['debug', 'window', 'image', 'text'])\n",
      "\n",
      "These are the values in the main json key widget: dict_values(['on', {'title': 'Sample Konfabulator Widget', 'name': 'main_window', 'width': 500, 'height': 500}, {'src': 'Images/Sun.png', 'name': 'sun1', 'hOffset': 250, 'vOffset': 250, 'alignment': 'center'}, {'data': 'Click Here', 'size': 36, 'style': 'bold', 'name': 'text1', 'hOffset': 250, 'vOffset': 100, 'alignment': 'center', 'onMouseUp': 'sun1.opacity = (sun1.opacity / 100) * 90;'}])\n",
      "\n",
      "This are the values in the inside key image: dict_values(['Images/Sun.png', 'sun1', 250, 250, 'center'])\n",
      "Using get method to return a value from src key inside image key. Value: Images/Sun.png\n",
      "\n",
      "This are the keys in the inside key image: dict_keys(['src', 'name', 'hOffset', 'vOffset', 'alignment'])\n",
      "\n"
     ]
    }
   ],
   "source": [
    "#keys() method returns the json/dict keys.\n",
    "print('This is the main key in the json:', example_json.keys())\n",
    "print('This is a key in the json main key:', example_json.get('widget').keys())\n",
    "print()\n",
    "\n",
    "#If the json key have other keys, passing the key in square brackets and using keys() method return them.\n",
    "print('The widget json key has these keys inside:', example_json.get('widget').keys())\n",
    "print()\n",
    "\n",
    "#Passing the main key and using values() method returns all the content, both keys and values.\n",
    "print('These are the values in the main json key widget:', example_json['widget'].values())\n",
    "print()\n",
    "\n",
    "#Inside keys values could be accessed using get() method to take a specific value or passing a second/third/etc key inside square brackets.\n",
    "#example_json['widget']['text']['data']\n",
    "print('This are the values in the inside key image:', example_json['widget']['image'].values())\n",
    "print('Using get method to return a value from src key inside image key. Value:', example_json['widget']['image'].get('src'))\n",
    "print()\n",
    "\n",
    "#These also works when getting the inner keys.\n",
    "print('This are the keys in the inside key image:', example_json['widget']['image'].keys())\n",
    "print()\n",
    "\n"
   ]
  },
  {
   "cell_type": "code",
   "execution_count": 5,
   "metadata": {},
   "outputs": [
    {
     "name": "stdout",
     "output_type": "stream",
     "text": [
      "Content: debug\n",
      "Key: o\n",
      "Key: n\n",
      "Content: window\n",
      "Key: title\n",
      "Key: name\n",
      "Key: width\n",
      "Key: height\n",
      "Content: image\n",
      "Key: src\n",
      "Key: name\n",
      "Key: hOffset\n",
      "Key: vOffset\n",
      "Key: alignment\n",
      "Content: text\n",
      "Key: data\n",
      "Key: size\n",
      "Key: style\n",
      "Key: name\n",
      "Key: hOffset\n",
      "Key: vOffset\n",
      "Key: alignment\n",
      "Key: onMouseUp\n"
     ]
    }
   ],
   "source": [
    "\n",
    "for content in example_json.get('widget'):\n",
    "    print(f'Content: {content}')\n",
    "    for key in example_json['widget'].get(content):\n",
    "        print(f'Key: {key}')\n",
    "    "
   ]
  },
  {
   "cell_type": "code",
   "execution_count": 13,
   "metadata": {},
   "outputs": [
    {
     "name": "stdout",
     "output_type": "stream",
     "text": [
      "cu 0\n",
      "DAMNNNN! Its 1\n",
      "cu 2\n",
      "DAMNNNN! Its 3\n",
      "cu 4\n",
      "DAMNNNN! Its 5\n",
      "cu 6\n",
      "DAMNNNN! Its 7\n",
      "cu 8\n",
      "DAMNNNN! Its 9\n",
      "cu 10\n",
      "DAMNNNN! Its 11\n",
      "cu 12\n",
      "DAMNNNN! Its 13\n",
      "cu 14\n",
      "DAMNNNN! Its 15\n",
      "cu 16\n",
      "DAMNNNN! Its 17\n",
      "cu 18\n",
      "DAMNNNN! Its 19\n",
      "cu 20\n",
      "DAMNNNN! Its 21\n",
      "cu 22\n",
      "DAMNNNN! Its 23\n",
      "cu 24\n",
      "DAMNNNN! Its 25\n",
      "cu 26\n",
      "DAMNNNN! Its 27\n",
      "cu 28\n",
      "DAMNNNN! Its 29\n",
      "cu 30\n",
      "DAMNNNN! Its 31\n",
      "cu 32\n",
      "DAMNNNN! Its 33\n",
      "cu 34\n",
      "DAMNNNN! Its 35\n",
      "cu 36\n",
      "DAMNNNN! Its 37\n",
      "cu 38\n",
      "DAMNNNN! Its 39\n",
      "cu 40\n",
      "DAMNNNN! Its 41\n",
      "cu 42\n",
      "DAMNNNN! Its 43\n",
      "cu 44\n",
      "DAMNNNN! Its 45\n",
      "cu 46\n",
      "DAMNNNN! Its 47\n",
      "cu 48\n",
      "DAMNNNN! Its 49\n"
     ]
    }
   ],
   "source": [
    "for i in range(0,50):\n",
    "    if i % 2 == 1:\n",
    "        print(f'DAMNNNN! Its {i}')\n",
    "    else:\n",
    "        print(f'cu {i}')\n",
    "              "
   ]
  },
  {
   "cell_type": "code",
   "execution_count": null,
   "metadata": {},
   "outputs": [],
   "source": []
  }
 ],
 "metadata": {
  "kernelspec": {
   "display_name": "Python 3",
   "language": "python",
   "name": "python3"
  },
  "language_info": {
   "codemirror_mode": {
    "name": "ipython",
    "version": 3
   },
   "file_extension": ".py",
   "mimetype": "text/x-python",
   "name": "python",
   "nbconvert_exporter": "python",
   "pygments_lexer": "ipython3",
   "version": "3.10.6 (tags/v3.10.6:9c7b4bd, Aug  1 2022, 21:53:49) [MSC v.1932 64 bit (AMD64)]"
  },
  "orig_nbformat": 4,
  "vscode": {
   "interpreter": {
    "hash": "c9f4eb8187150df23194d12dd9682400910c16b22896f5793d13e671581e7178"
   }
  }
 },
 "nbformat": 4,
 "nbformat_minor": 2
}
